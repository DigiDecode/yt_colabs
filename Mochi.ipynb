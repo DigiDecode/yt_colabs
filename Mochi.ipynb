{
  "nbformat": 4,
  "nbformat_minor": 0,
  "metadata": {
    "colab": {
      "provenance": [],
      "gpuType": "T4"
    },
    "kernelspec": {
      "name": "python3",
      "display_name": "Python 3"
    },
    "language_info": {
      "name": "python"
    },
    "accelerator": "GPU"
  },
  "cells": [
    {
      "cell_type": "code",
      "execution_count": null,
      "metadata": {
        "id": "IVP9fwOJSzJX"
      },
      "outputs": [],
      "source": [
        "!git clone https://github.com/comfyanonymous/ComfyUI"
      ]
    },
    {
      "cell_type": "code",
      "source": [
        "%cd ComfyUI/custom_nodes/"
      ],
      "metadata": {
        "id": "_SbmfBKuTatO"
      },
      "execution_count": null,
      "outputs": []
    },
    {
      "cell_type": "code",
      "source": [
        "!git clone https://github.com/kijai/ComfyUI-MochiWrapper"
      ],
      "metadata": {
        "id": "dTdT2FjeTgob"
      },
      "execution_count": null,
      "outputs": []
    },
    {
      "cell_type": "code",
      "source": [
        "!git clone https://github.com/kijai/ComfyUI-KJNodes"
      ],
      "metadata": {
        "id": "s_Ha0eXcUDHS"
      },
      "execution_count": null,
      "outputs": []
    },
    {
      "cell_type": "code",
      "source": [
        "!git clone https://github.com/Kosinkadink/ComfyUI-VideoHelperSuite"
      ],
      "metadata": {
        "id": "2gdrKvoaUKxq"
      },
      "execution_count": null,
      "outputs": []
    },
    {
      "cell_type": "code",
      "source": [
        "%cd ../models/diffusion_models/"
      ],
      "metadata": {
        "id": "eDDBG4wKUOM-"
      },
      "execution_count": null,
      "outputs": []
    },
    {
      "cell_type": "code",
      "source": [
        "!mkdir mochi"
      ],
      "metadata": {
        "id": "7bjf_I5fUbmf"
      },
      "execution_count": null,
      "outputs": []
    },
    {
      "cell_type": "code",
      "source": [
        "%cd mochi"
      ],
      "metadata": {
        "id": "uy_wQyZCUg7A"
      },
      "execution_count": null,
      "outputs": []
    },
    {
      "cell_type": "code",
      "source": [
        "!wget https://huggingface.co/Kijai/Mochi_preview_comfy/resolve/main/mochi_preview_dit_fp8_e4m3fn.safetensors?download=true -O mochi_preview_dit_fp8_e4m3fn.safetensors"
      ],
      "metadata": {
        "id": "jbr9jsmjUk_p"
      },
      "execution_count": null,
      "outputs": []
    },
    {
      "cell_type": "code",
      "source": [
        "%cd ../../vae"
      ],
      "metadata": {
        "id": "oo1E68fvVFP8"
      },
      "execution_count": null,
      "outputs": []
    },
    {
      "cell_type": "code",
      "source": [
        "!mkdir mochi"
      ],
      "metadata": {
        "id": "T6nkFMUdWTQc"
      },
      "execution_count": null,
      "outputs": []
    },
    {
      "cell_type": "code",
      "source": [
        "!wget https://huggingface.co/Kijai/Mochi_preview_comfy/resolve/main/mochi_preview_vae_bf16.safetensors?download=true -O mochi/mochi_preview_vae_bf16.safetensors"
      ],
      "metadata": {
        "id": "PMkP0I1pWdlP"
      },
      "execution_count": null,
      "outputs": []
    },
    {
      "cell_type": "code",
      "source": [
        "%cd ../clip"
      ],
      "metadata": {
        "id": "yPkFNsvGWpia"
      },
      "execution_count": null,
      "outputs": []
    },
    {
      "cell_type": "code",
      "source": [
        "!mkdir t5"
      ],
      "metadata": {
        "id": "3UcGNNFJXAYr"
      },
      "execution_count": null,
      "outputs": []
    },
    {
      "cell_type": "code",
      "source": [
        "!wget https://huggingface.co/mcmonkey/google_t5-v1_1-xxl_encoderonly/resolve/main/t5xxl_fp8_e4m3fn.safetensors?download=true -O t5/t5xxl_fp8_e4m3fn.safetensors"
      ],
      "metadata": {
        "id": "v2lRxvWRXFVm"
      },
      "execution_count": null,
      "outputs": []
    },
    {
      "cell_type": "code",
      "source": [
        "%cd ../../"
      ],
      "metadata": {
        "id": "ZW9zcS8DXbQV"
      },
      "execution_count": null,
      "outputs": []
    },
    {
      "cell_type": "code",
      "source": [
        "!pip install -r requirements.txt"
      ],
      "metadata": {
        "id": "vyQZLpJnXe7n"
      },
      "execution_count": null,
      "outputs": []
    },
    {
      "cell_type": "code",
      "source": [
        "!pip install pyngrok"
      ],
      "metadata": {
        "id": "RzOaWM7EYjgF"
      },
      "execution_count": null,
      "outputs": []
    },
    {
      "cell_type": "code",
      "source": [
        "from pyngrok import ngrok"
      ],
      "metadata": {
        "id": "LT6y56ENZEE3"
      },
      "execution_count": null,
      "outputs": []
    },
    {
      "cell_type": "code",
      "source": [
        "import os"
      ],
      "metadata": {
        "id": "KeEnVRKKakLX"
      },
      "execution_count": null,
      "outputs": []
    },
    {
      "cell_type": "code",
      "source": [
        "os.environ[\"NGROK_AUTHTOKEN\"] = ''"
      ],
      "metadata": {
        "id": "3CZEYkZkaf_1"
      },
      "execution_count": null,
      "outputs": []
    },
    {
      "cell_type": "code",
      "source": [
        "public_url = ngrok.connect(8188)"
      ],
      "metadata": {
        "id": "Lou5koQcZGxM"
      },
      "execution_count": null,
      "outputs": []
    },
    {
      "cell_type": "code",
      "source": [
        "!python main.py"
      ],
      "metadata": {
        "id": "KnvhsSz6X6o2"
      },
      "execution_count": null,
      "outputs": []
    }
  ]
}